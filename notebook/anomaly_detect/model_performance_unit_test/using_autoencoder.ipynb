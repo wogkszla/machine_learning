{
 "cells": [
  {
   "cell_type": "code",
   "execution_count": 1,
   "metadata": {},
   "outputs": [],
   "source": [
    "import random\n",
    "import pandas as pd\n",
    "import numpy as np\n",
    "import matplotlib.pyplot as plt\n",
    "import seaborn as sns\n",
    "%matplotlib inline\n",
    "from pylab import rcParams\n",
    "\n",
    "rcParams['figure.figsize'] = 12, 6\n",
    "sns.set(style='whitegrid', palette='muted', font_scale=1.5)"
   ]
  },
  {
   "cell_type": "markdown",
   "metadata": {},
   "source": [
    "### Generate Sequence Data"
   ]
  },
  {
   "cell_type": "code",
   "execution_count": 2,
   "metadata": {},
   "outputs": [
    {
     "name": "stdout",
     "output_type": "stream",
     "text": [
      "DEEE2ZLQ\n"
     ]
    }
   ],
   "source": [
    "first_letters =  'ABCDEF'\n",
    "second_numbers = '120'\n",
    "last_letters = 'QWOPZXML'\n",
    "\n",
    "# returns a string of the following format: [4 letters A-F][1 digit 0-2][3 letters QWOPZXML]\n",
    "def get_random_string():\n",
    "    str1 = ''.join(random.choice(first_letters) for i in range(4))\n",
    "    str2 = random.choice(second_numbers)\n",
    "    str3 = ''.join(random.choice(last_letters) for i in range(3))\n",
    "    return str1+str2+str3\n",
    "    \n",
    "print(get_random_string())"
   ]
  },
  {
   "cell_type": "code",
   "execution_count": 3,
   "metadata": {},
   "outputs": [
    {
     "data": {
      "text/plain": [
       "['ACEB1QZX', 'DECA0OQP', 'EFBE2LPX', 'DAAA0PQW']"
      ]
     },
     "execution_count": 3,
     "metadata": {},
     "output_type": "execute_result"
    }
   ],
   "source": [
    "# get 25,000 sequences of this format\n",
    "random_sequences = [get_random_string() for i in range(25000)]\n",
    "random_sequences[1:5]"
   ]
  },
  {
   "cell_type": "code",
   "execution_count": 4,
   "metadata": {},
   "outputs": [],
   "source": [
    "#Build the char index that we will use to encode seqs to numbers\n",
    "char_index = '0abcdefghijklmnopqrstuvwxyz'\n",
    "char_index +='ABCDEFGHIJKLMNOPQRSTUVWXYZ'\n",
    "char_index += '123456789'\n",
    "char_index += '().,-/+=&$?@#!*:;_[]|%⸏{}\\\"\\'' + ' ' +'\\\\'\n",
    "\n",
    "char_to_int = dict((c, i) for i, c in enumerate(char_index))\n",
    "int_to_char = dict((i, c) for i, c in enumerate(char_index))"
   ]
  },
  {
   "cell_type": "code",
   "execution_count": 6,
   "metadata": {},
   "outputs": [],
   "source": [
    "from keras.preprocessing.sequence import pad_sequences\n",
    "#function that convert a char seqs to numbers seqs\n",
    "#(it does a little more but lets leave it for now)\n",
    "def encode_sequence_list(seqs, feat_n=0):\n",
    "    encoded_seqs = []\n",
    "    for seq in seqs:\n",
    "        encoded_seq = [char_to_int[c] for c in seq]\n",
    "        encoded_seqs.append(encoded_seq)\n",
    "    if(feat_n > 0):\n",
    "        encoded_seqs.append(np.zeros(feat_n))\n",
    "    return pad_sequences(encoded_seqs, padding='post')\n",
    "\n",
    "def decode_sequence_list(seqs):\n",
    "    decoded_seqs = []\n",
    "    for seq in seqs:\n",
    "        decoded_seq = [int_to_char[i] for i in seq]\n",
    "        decoded_seqs.append(decoded_seq)\n",
    "    return decoded_seqs"
   ]
  },
  {
   "cell_type": "code",
   "execution_count": 8,
   "metadata": {},
   "outputs": [],
   "source": [
    "# add some anomalies to our list\n",
    "random_sequences.extend(['XYDC2DCA', 'TXSX1ABC','RNIU4XRE','AABDXUEI','SDRAC5RF'])\n",
    "#save this to a dataframe\n",
    "seqs_ds = pd.DataFrame(random_sequences)\n",
    "# encode each string seq to an integer array [[1],[5],[67]], [[45],[76],[7]\n",
    "encoded_seqs = encode_sequence_list(random_sequences)\n",
    "# mix everything up\n",
    "np.random.shuffle(encoded_seqs)"
   ]
  },
  {
   "cell_type": "code",
   "execution_count": 9,
   "metadata": {},
   "outputs": [
    {
     "name": "stdout",
     "output_type": "stream",
     "text": [
      "BFDB2ZXO\n",
      "[28 28 27 31 53 41 43 52]\n"
     ]
    }
   ],
   "source": [
    "print(random_sequences[10])\n",
    "print(encoded_seqs[10])"
   ]
  },
  {
   "cell_type": "code",
   "execution_count": 10,
   "metadata": {},
   "outputs": [
    {
     "data": {
      "text/plain": [
       "(25005, 8)"
      ]
     },
     "execution_count": 10,
     "metadata": {},
     "output_type": "execute_result"
    }
   ],
   "source": [
    "encoded_seqs.shape"
   ]
  },
  {
   "cell_type": "markdown",
   "metadata": {},
   "source": [
    "### Prepare the Data and Build an Autoencoder"
   ]
  },
  {
   "cell_type": "code",
   "execution_count": 11,
   "metadata": {},
   "outputs": [],
   "source": [
    "from sklearn.preprocessing import StandardScaler, MinMaxScaler\n",
    "scaler = MinMaxScaler()\n",
    "scaled_seqs = scaler.fit_transform(encoded_seqs)\n",
    "X_train = scaled_seqs[:20000]\n",
    "X_test = scaled_seqs[20000:]"
   ]
  },
  {
   "cell_type": "code",
   "execution_count": 12,
   "metadata": {},
   "outputs": [
    {
     "name": "stdout",
     "output_type": "stream",
     "text": [
      "WARNING:tensorflow:From /home/labs/anaconda3/envs/deploy/lib/python3.6/site-packages/tensorflow/python/framework/op_def_library.py:263: colocate_with (from tensorflow.python.framework.ops) is deprecated and will be removed in a future version.\n",
      "Instructions for updating:\n",
      "Colocations handled automatically by placer.\n"
     ]
    }
   ],
   "source": [
    "from keras.models import Model, load_model\n",
    "from keras.layers import Input, Dense, Dropout, LSTM\n",
    "from keras.callbacks import ModelCheckpoint, TensorBoard\n",
    "from keras import regularizers\n",
    "\n",
    "input_dim = X_train.shape[1] #features\n",
    "encoding_dim = 8\n",
    "hidden_dim = int(encoding_dim / 2)\n",
    "\n",
    "nb_epoch = 30\n",
    "batch_size = 128\n",
    "learning_rate = 0.1\n",
    "\n",
    "input_layer = Input(shape=(input_dim, ))\n",
    "\n",
    "encoder = Dense(encoding_dim, activation=\"tanh\", activity_regularizer=regularizers.l1(10e-5))(input_layer)\n",
    "encoder = Dense(hidden_dim, activation=\"relu\")(encoder)\n",
    "decoder = Dense(hidden_dim, activation='relu')(encoder)\n",
    "decoder = Dense(encoding_dim, activation='relu')(encoder)\n",
    "decoder = Dense(input_dim, activation='tanh')(decoder)\n",
    "\n",
    "autoencoder = Model(inputs=input_layer, outputs=decoder)\n",
    "\n"
   ]
  },
  {
   "cell_type": "markdown",
   "metadata": {},
   "source": [
    "### Fit the Model"
   ]
  },
  {
   "cell_type": "code",
   "execution_count": 13,
   "metadata": {},
   "outputs": [
    {
     "name": "stdout",
     "output_type": "stream",
     "text": [
      "WARNING:tensorflow:From /home/labs/anaconda3/envs/deploy/lib/python3.6/site-packages/tensorflow/python/ops/math_ops.py:3066: to_int32 (from tensorflow.python.ops.math_ops) is deprecated and will be removed in a future version.\n",
      "Instructions for updating:\n",
      "Use tf.cast instead.\n",
      "Train on 20000 samples, validate on 5005 samples\n",
      "Epoch 1/30\n",
      "20000/20000 [==============================] - 1s 60us/step - loss: 0.2074 - acc: 0.0671 - val_loss: 0.0998 - val_acc: 0.0929\n",
      "Epoch 2/30\n",
      "20000/20000 [==============================] - 1s 43us/step - loss: 0.0832 - acc: 0.1880 - val_loss: 0.0721 - val_acc: 0.2274\n",
      "Epoch 3/30\n",
      "20000/20000 [==============================] - 1s 44us/step - loss: 0.0646 - acc: 0.2205 - val_loss: 0.0587 - val_acc: 0.2274\n",
      "Epoch 4/30\n",
      "20000/20000 [==============================] - 1s 43us/step - loss: 0.0550 - acc: 0.2205 - val_loss: 0.0525 - val_acc: 0.2274\n",
      "Epoch 5/30\n",
      "20000/20000 [==============================] - 1s 44us/step - loss: 0.0499 - acc: 0.2205 - val_loss: 0.0482 - val_acc: 0.2274\n",
      "Epoch 6/30\n",
      "20000/20000 [==============================] - 1s 44us/step - loss: 0.0459 - acc: 0.2205 - val_loss: 0.0439 - val_acc: 0.2274\n",
      "Epoch 7/30\n",
      "20000/20000 [==============================] - 1s 43us/step - loss: 0.0367 - acc: 0.2876 - val_loss: 0.0305 - val_acc: 0.5518\n",
      "Epoch 8/30\n",
      "20000/20000 [==============================] - 1s 43us/step - loss: 0.0278 - acc: 0.6160 - val_loss: 0.0261 - val_acc: 0.6330\n",
      "Epoch 9/30\n",
      "20000/20000 [==============================] - 1s 42us/step - loss: 0.0249 - acc: 0.6593 - val_loss: 0.0242 - val_acc: 0.6649\n",
      "Epoch 10/30\n",
      "20000/20000 [==============================] - 1s 42us/step - loss: 0.0233 - acc: 0.6583 - val_loss: 0.0228 - val_acc: 0.6687\n",
      "Epoch 11/30\n",
      "20000/20000 [==============================] - 1s 43us/step - loss: 0.0221 - acc: 0.6598 - val_loss: 0.0217 - val_acc: 0.6625\n",
      "Epoch 12/30\n",
      "20000/20000 [==============================] - 1s 44us/step - loss: 0.0211 - acc: 0.6601 - val_loss: 0.0207 - val_acc: 0.6625\n",
      "Epoch 13/30\n",
      "20000/20000 [==============================] - 1s 42us/step - loss: 0.0199 - acc: 0.6606 - val_loss: 0.0193 - val_acc: 0.6633\n",
      "Epoch 14/30\n",
      "20000/20000 [==============================] - 1s 44us/step - loss: 0.0184 - acc: 0.6597 - val_loss: 0.0174 - val_acc: 0.6388\n",
      "Epoch 15/30\n",
      "20000/20000 [==============================] - 1s 42us/step - loss: 0.0167 - acc: 0.6644 - val_loss: 0.0164 - val_acc: 0.6775\n",
      "Epoch 16/30\n",
      "20000/20000 [==============================] - 1s 42us/step - loss: 0.0160 - acc: 0.6753 - val_loss: 0.0158 - val_acc: 0.6907\n",
      "Epoch 17/30\n",
      "20000/20000 [==============================] - 1s 42us/step - loss: 0.0154 - acc: 0.6879 - val_loss: 0.0152 - val_acc: 0.6797\n",
      "Epoch 18/30\n",
      "20000/20000 [==============================] - 1s 41us/step - loss: 0.0149 - acc: 0.6825 - val_loss: 0.0148 - val_acc: 0.6829\n",
      "Epoch 19/30\n",
      "20000/20000 [==============================] - 1s 42us/step - loss: 0.0145 - acc: 0.6895 - val_loss: 0.0144 - val_acc: 0.6847\n",
      "Epoch 20/30\n",
      "20000/20000 [==============================] - 1s 42us/step - loss: 0.0142 - acc: 0.6876 - val_loss: 0.0142 - val_acc: 0.6919\n",
      "Epoch 21/30\n",
      "20000/20000 [==============================] - 1s 42us/step - loss: 0.0140 - acc: 0.6944 - val_loss: 0.0140 - val_acc: 0.6913\n",
      "Epoch 22/30\n",
      "20000/20000 [==============================] - 1s 43us/step - loss: 0.0138 - acc: 0.6920 - val_loss: 0.0138 - val_acc: 0.6937\n",
      "Epoch 23/30\n",
      "20000/20000 [==============================] - 1s 42us/step - loss: 0.0136 - acc: 0.6936 - val_loss: 0.0136 - val_acc: 0.6941\n",
      "Epoch 24/30\n",
      "20000/20000 [==============================] - 1s 43us/step - loss: 0.0134 - acc: 0.7003 - val_loss: 0.0135 - val_acc: 0.6885\n",
      "Epoch 25/30\n",
      "20000/20000 [==============================] - 1s 43us/step - loss: 0.0133 - acc: 0.6988 - val_loss: 0.0133 - val_acc: 0.7009\n",
      "Epoch 26/30\n",
      "20000/20000 [==============================] - 1s 42us/step - loss: 0.0131 - acc: 0.7038 - val_loss: 0.0131 - val_acc: 0.7003\n",
      "Epoch 27/30\n",
      "20000/20000 [==============================] - 1s 41us/step - loss: 0.0129 - acc: 0.7076 - val_loss: 0.0129 - val_acc: 0.6961\n",
      "Epoch 28/30\n",
      "20000/20000 [==============================] - 1s 42us/step - loss: 0.0127 - acc: 0.7101 - val_loss: 0.0127 - val_acc: 0.6999\n",
      "Epoch 29/30\n",
      "20000/20000 [==============================] - 1s 44us/step - loss: 0.0124 - acc: 0.7142 - val_loss: 0.0124 - val_acc: 0.7109\n",
      "Epoch 30/30\n",
      "20000/20000 [==============================] - 1s 44us/step - loss: 0.0121 - acc: 0.7198 - val_loss: 0.0121 - val_acc: 0.7191\n"
     ]
    }
   ],
   "source": [
    "autoencoder.compile(optimizer='adam', \n",
    "                    loss='mean_squared_error', \n",
    "                    metrics=['accuracy'])\n",
    "\n",
    "checkpointer = ModelCheckpoint(filepath=\"model_seqs2.h5\",\n",
    "                               verbose=0,\n",
    "                               save_best_only=True)\n",
    "\n",
    "tensorboard = TensorBoard(log_dir='./logs',\n",
    "                          histogram_freq=0,\n",
    "                          write_graph=True,\n",
    "                          write_images=True)\n",
    "\n",
    "history = autoencoder.fit(X_train, X_train,\n",
    "                    epochs=nb_epoch,\n",
    "                    batch_size=batch_size,\n",
    "                    shuffle=True,\n",
    "                    validation_data=(X_test, X_test),\n",
    "                    verbose=1,\n",
    "                    callbacks=[checkpointer, tensorboard]).history"
   ]
  },
  {
   "cell_type": "code",
   "execution_count": 14,
   "metadata": {},
   "outputs": [
    {
     "data": {
      "image/png": "[encoded data removed]",
      "text/plain": [
       "<Figure size 432x288 with 1 Axes>"
      ]
     },
     "metadata": {
      "needs_background": "light"
     },
     "output_type": "display_data"
    }
   ],
   "source": [
    "plt.plot(history['loss'])\n",
    "plt.plot(history['val_loss'])\n",
    "plt.title('model loss')\n",
    "plt.ylabel('loss')\n",
    "plt.xlabel('epoch')\n",
    "plt.legend(['train', 'test'], loc='upper right');"
   ]
  },
  {
   "cell_type": "code",
   "execution_count": 15,
   "metadata": {},
   "outputs": [
    {
     "name": "stdout",
     "output_type": "stream",
     "text": [
      "Min Loss:0.012113947296142577\n"
     ]
    }
   ],
   "source": [
    "autoencoder = load_model('model_seqs2.h5')\n",
    "print(f'Min Loss:{np.min(history[\"loss\"])}')"
   ]
  },
  {
   "cell_type": "markdown",
   "metadata": {},
   "source": [
    "### Calculate the Error Term"
   ]
  },
  {
   "cell_type": "code",
   "execution_count": 16,
   "metadata": {},
   "outputs": [
    {
     "name": "stdout",
     "output_type": "stream",
     "text": [
      "MSE: 0.19056261588654894\n"
     ]
    }
   ],
   "source": [
    "#get the MSE error term\n",
    "predictions = autoencoder.predict(scaled_seqs)\n",
    "mse = np.mean(np.power(scaled_seqs - predictions, 2), axis=1)\n",
    "print('MSE:', np.quantile(mse, 0.9999)) # => the 9999% quatile - only 0.0001% have error score higher than that\n"
   ]
  },
  {
   "cell_type": "markdown",
   "metadata": {},
   "source": [
    "### Lets return to the seqs_ds data set that holds all the sequences"
   ]
  },
  {
   "cell_type": "code",
   "execution_count": 20,
   "metadata": {},
   "outputs": [
    {
     "data": {
      "text/plain": [
       "(25005, 1)"
      ]
     },
     "execution_count": 20,
     "metadata": {},
     "output_type": "execute_result"
    }
   ],
   "source": [
    "seqs_ds.shape"
   ]
  },
  {
   "cell_type": "code",
   "execution_count": 21,
   "metadata": {},
   "outputs": [],
   "source": [
    "#encode all the data\n",
    "encoded_seqs = encode_sequence_list(seqs_ds.iloc[:,0])\n",
    "#scale it\n",
    "scaled_data = MinMaxScaler().fit_transform(encoded_seqs)\n",
    "#predict it\n",
    "predicted = autoencoder.predict(scaled_data)\n",
    "#get the error term\n",
    "mse = np.mean(np.power(scaled_data - predicted, 2), axis=1)\n",
    "#now add them to our data frame\n",
    "seqs_ds['MSE'] = mse"
   ]
  },
  {
   "cell_type": "code",
   "execution_count": 22,
   "metadata": {},
   "outputs": [
    {
     "data": {
      "text/html": [
       "<div>\n",
       "<style scoped>\n",
       "    .dataframe tbody tr th:only-of-type {\n",
       "        vertical-align: middle;\n",
       "    }\n",
       "\n",
       "    .dataframe tbody tr th {\n",
       "        vertical-align: top;\n",
       "    }\n",
       "\n",
       "    .dataframe thead th {\n",
       "        text-align: right;\n",
       "    }\n",
       "</style>\n",
       "<table border=\"1\" class=\"dataframe\">\n",
       "  <thead>\n",
       "    <tr style=\"text-align: right;\">\n",
       "      <th></th>\n",
       "      <th>0</th>\n",
       "      <th>MSE</th>\n",
       "    </tr>\n",
       "  </thead>\n",
       "  <tbody>\n",
       "    <tr>\n",
       "      <th>0</th>\n",
       "      <td>EEAE0PQL</td>\n",
       "      <td>0.008221</td>\n",
       "    </tr>\n",
       "    <tr>\n",
       "      <th>1</th>\n",
       "      <td>ACEB1QZX</td>\n",
       "      <td>0.004688</td>\n",
       "    </tr>\n",
       "    <tr>\n",
       "      <th>2</th>\n",
       "      <td>DECA0OQP</td>\n",
       "      <td>0.003691</td>\n",
       "    </tr>\n",
       "    <tr>\n",
       "      <th>3</th>\n",
       "      <td>EFBE2LPX</td>\n",
       "      <td>0.013318</td>\n",
       "    </tr>\n",
       "    <tr>\n",
       "      <th>4</th>\n",
       "      <td>DAAA0PQW</td>\n",
       "      <td>0.009781</td>\n",
       "    </tr>\n",
       "    <tr>\n",
       "      <th>5</th>\n",
       "      <td>BAEF2ZPQ</td>\n",
       "      <td>0.013176</td>\n",
       "    </tr>\n",
       "    <tr>\n",
       "      <th>6</th>\n",
       "      <td>DEDC1PPX</td>\n",
       "      <td>0.007647</td>\n",
       "    </tr>\n",
       "    <tr>\n",
       "      <th>7</th>\n",
       "      <td>DBAB1LPO</td>\n",
       "      <td>0.008519</td>\n",
       "    </tr>\n",
       "    <tr>\n",
       "      <th>8</th>\n",
       "      <td>FEAB2WQL</td>\n",
       "      <td>0.006850</td>\n",
       "    </tr>\n",
       "    <tr>\n",
       "      <th>9</th>\n",
       "      <td>EBFA2QMZ</td>\n",
       "      <td>0.021109</td>\n",
       "    </tr>\n",
       "    <tr>\n",
       "      <th>10</th>\n",
       "      <td>BFDB2ZXO</td>\n",
       "      <td>0.013909</td>\n",
       "    </tr>\n",
       "    <tr>\n",
       "      <th>11</th>\n",
       "      <td>BADF0ZXP</td>\n",
       "      <td>0.015970</td>\n",
       "    </tr>\n",
       "    <tr>\n",
       "      <th>12</th>\n",
       "      <td>CFDD2LQO</td>\n",
       "      <td>0.005447</td>\n",
       "    </tr>\n",
       "    <tr>\n",
       "      <th>13</th>\n",
       "      <td>AEFC1PQX</td>\n",
       "      <td>0.008754</td>\n",
       "    </tr>\n",
       "    <tr>\n",
       "      <th>14</th>\n",
       "      <td>FBCF2QPZ</td>\n",
       "      <td>0.013954</td>\n",
       "    </tr>\n",
       "    <tr>\n",
       "      <th>15</th>\n",
       "      <td>BADB0XMW</td>\n",
       "      <td>0.016621</td>\n",
       "    </tr>\n",
       "    <tr>\n",
       "      <th>16</th>\n",
       "      <td>FFFD0ZWO</td>\n",
       "      <td>0.019814</td>\n",
       "    </tr>\n",
       "    <tr>\n",
       "      <th>17</th>\n",
       "      <td>FECD2LZX</td>\n",
       "      <td>0.007901</td>\n",
       "    </tr>\n",
       "    <tr>\n",
       "      <th>18</th>\n",
       "      <td>BAFA2MLL</td>\n",
       "      <td>0.008416</td>\n",
       "    </tr>\n",
       "    <tr>\n",
       "      <th>19</th>\n",
       "      <td>FBAE0XWO</td>\n",
       "      <td>0.012431</td>\n",
       "    </tr>\n",
       "    <tr>\n",
       "      <th>20</th>\n",
       "      <td>ECCA2LQZ</td>\n",
       "      <td>0.015809</td>\n",
       "    </tr>\n",
       "    <tr>\n",
       "      <th>21</th>\n",
       "      <td>ADEC1WMQ</td>\n",
       "      <td>0.006631</td>\n",
       "    </tr>\n",
       "    <tr>\n",
       "      <th>22</th>\n",
       "      <td>FEFF1QLP</td>\n",
       "      <td>0.003340</td>\n",
       "    </tr>\n",
       "    <tr>\n",
       "      <th>23</th>\n",
       "      <td>DDEE1WMZ</td>\n",
       "      <td>0.022892</td>\n",
       "    </tr>\n",
       "    <tr>\n",
       "      <th>24</th>\n",
       "      <td>BEFD1QPL</td>\n",
       "      <td>0.006158</td>\n",
       "    </tr>\n",
       "    <tr>\n",
       "      <th>25</th>\n",
       "      <td>ADCA0QQW</td>\n",
       "      <td>0.007221</td>\n",
       "    </tr>\n",
       "    <tr>\n",
       "      <th>26</th>\n",
       "      <td>BDCF1QMZ</td>\n",
       "      <td>0.019005</td>\n",
       "    </tr>\n",
       "    <tr>\n",
       "      <th>27</th>\n",
       "      <td>ACCB1QQZ</td>\n",
       "      <td>0.011843</td>\n",
       "    </tr>\n",
       "    <tr>\n",
       "      <th>28</th>\n",
       "      <td>BFAD0MLP</td>\n",
       "      <td>0.007977</td>\n",
       "    </tr>\n",
       "    <tr>\n",
       "      <th>29</th>\n",
       "      <td>BECB0MWX</td>\n",
       "      <td>0.006266</td>\n",
       "    </tr>\n",
       "    <tr>\n",
       "      <th>...</th>\n",
       "      <td>...</td>\n",
       "      <td>...</td>\n",
       "    </tr>\n",
       "    <tr>\n",
       "      <th>24975</th>\n",
       "      <td>AFEC2MXZ</td>\n",
       "      <td>0.008138</td>\n",
       "    </tr>\n",
       "    <tr>\n",
       "      <th>24976</th>\n",
       "      <td>EFCC1MMO</td>\n",
       "      <td>0.004535</td>\n",
       "    </tr>\n",
       "    <tr>\n",
       "      <th>24977</th>\n",
       "      <td>DABC2ZWP</td>\n",
       "      <td>0.009698</td>\n",
       "    </tr>\n",
       "    <tr>\n",
       "      <th>24978</th>\n",
       "      <td>EDBF1XQQ</td>\n",
       "      <td>0.006995</td>\n",
       "    </tr>\n",
       "    <tr>\n",
       "      <th>24979</th>\n",
       "      <td>DCBE1XOW</td>\n",
       "      <td>0.012406</td>\n",
       "    </tr>\n",
       "    <tr>\n",
       "      <th>24980</th>\n",
       "      <td>BBDF0POO</td>\n",
       "      <td>0.002328</td>\n",
       "    </tr>\n",
       "    <tr>\n",
       "      <th>24981</th>\n",
       "      <td>EECB1WOO</td>\n",
       "      <td>0.003477</td>\n",
       "    </tr>\n",
       "    <tr>\n",
       "      <th>24982</th>\n",
       "      <td>BDFF1MXO</td>\n",
       "      <td>0.011806</td>\n",
       "    </tr>\n",
       "    <tr>\n",
       "      <th>24983</th>\n",
       "      <td>FECF2LWZ</td>\n",
       "      <td>0.008299</td>\n",
       "    </tr>\n",
       "    <tr>\n",
       "      <th>24984</th>\n",
       "      <td>BCFC2LPW</td>\n",
       "      <td>0.007934</td>\n",
       "    </tr>\n",
       "    <tr>\n",
       "      <th>24985</th>\n",
       "      <td>EDEA1XMM</td>\n",
       "      <td>0.007402</td>\n",
       "    </tr>\n",
       "    <tr>\n",
       "      <th>24986</th>\n",
       "      <td>CFEF2OPX</td>\n",
       "      <td>0.008280</td>\n",
       "    </tr>\n",
       "    <tr>\n",
       "      <th>24987</th>\n",
       "      <td>EFFF2PLQ</td>\n",
       "      <td>0.003507</td>\n",
       "    </tr>\n",
       "    <tr>\n",
       "      <th>24988</th>\n",
       "      <td>CFDC2WZO</td>\n",
       "      <td>0.014138</td>\n",
       "    </tr>\n",
       "    <tr>\n",
       "      <th>24989</th>\n",
       "      <td>EDAD2MPM</td>\n",
       "      <td>0.008202</td>\n",
       "    </tr>\n",
       "    <tr>\n",
       "      <th>24990</th>\n",
       "      <td>DDEC1LXW</td>\n",
       "      <td>0.003839</td>\n",
       "    </tr>\n",
       "    <tr>\n",
       "      <th>24991</th>\n",
       "      <td>CCDC1XLM</td>\n",
       "      <td>0.004291</td>\n",
       "    </tr>\n",
       "    <tr>\n",
       "      <th>24992</th>\n",
       "      <td>FBCE2ZOO</td>\n",
       "      <td>0.010450</td>\n",
       "    </tr>\n",
       "    <tr>\n",
       "      <th>24993</th>\n",
       "      <td>CABF1ZMZ</td>\n",
       "      <td>0.029583</td>\n",
       "    </tr>\n",
       "    <tr>\n",
       "      <th>24994</th>\n",
       "      <td>ADBB0ZLL</td>\n",
       "      <td>0.005168</td>\n",
       "    </tr>\n",
       "    <tr>\n",
       "      <th>24995</th>\n",
       "      <td>DABF1OLZ</td>\n",
       "      <td>0.023305</td>\n",
       "    </tr>\n",
       "    <tr>\n",
       "      <th>24996</th>\n",
       "      <td>DBEC0LPL</td>\n",
       "      <td>0.007211</td>\n",
       "    </tr>\n",
       "    <tr>\n",
       "      <th>24997</th>\n",
       "      <td>BDED0MQW</td>\n",
       "      <td>0.005564</td>\n",
       "    </tr>\n",
       "    <tr>\n",
       "      <th>24998</th>\n",
       "      <td>FFEB2MZX</td>\n",
       "      <td>0.007956</td>\n",
       "    </tr>\n",
       "    <tr>\n",
       "      <th>24999</th>\n",
       "      <td>DFDB0WQW</td>\n",
       "      <td>0.008972</td>\n",
       "    </tr>\n",
       "    <tr>\n",
       "      <th>25000</th>\n",
       "      <td>XYDC2DCA</td>\n",
       "      <td>0.224346</td>\n",
       "    </tr>\n",
       "    <tr>\n",
       "      <th>25001</th>\n",
       "      <td>TXSX1ABC</td>\n",
       "      <td>0.594367</td>\n",
       "    </tr>\n",
       "    <tr>\n",
       "      <th>25002</th>\n",
       "      <td>RNIU4XRE</td>\n",
       "      <td>0.191234</td>\n",
       "    </tr>\n",
       "    <tr>\n",
       "      <th>25003</th>\n",
       "      <td>AABDXUEI</td>\n",
       "      <td>0.010537</td>\n",
       "    </tr>\n",
       "    <tr>\n",
       "      <th>25004</th>\n",
       "      <td>SDRAC5RF</td>\n",
       "      <td>0.189892</td>\n",
       "    </tr>\n",
       "  </tbody>\n",
       "</table>\n",
       "<p>25005 rows × 2 columns</p>\n",
       "</div>"
      ],
      "text/plain": [
       "              0       MSE\n",
       "0      EEAE0PQL  0.008221\n",
       "1      ACEB1QZX  0.004688\n",
       "2      DECA0OQP  0.003691\n",
       "3      EFBE2LPX  0.013318\n",
       "4      DAAA0PQW  0.009781\n",
       "5      BAEF2ZPQ  0.013176\n",
       "6      DEDC1PPX  0.007647\n",
       "7      DBAB1LPO  0.008519\n",
       "8      FEAB2WQL  0.006850\n",
       "9      EBFA2QMZ  0.021109\n",
       "10     BFDB2ZXO  0.013909\n",
       "11     BADF0ZXP  0.015970\n",
       "12     CFDD2LQO  0.005447\n",
       "13     AEFC1PQX  0.008754\n",
       "14     FBCF2QPZ  0.013954\n",
       "15     BADB0XMW  0.016621\n",
       "16     FFFD0ZWO  0.019814\n",
       "17     FECD2LZX  0.007901\n",
       "18     BAFA2MLL  0.008416\n",
       "19     FBAE0XWO  0.012431\n",
       "20     ECCA2LQZ  0.015809\n",
       "21     ADEC1WMQ  0.006631\n",
       "22     FEFF1QLP  0.003340\n",
       "23     DDEE1WMZ  0.022892\n",
       "24     BEFD1QPL  0.006158\n",
       "25     ADCA0QQW  0.007221\n",
       "26     BDCF1QMZ  0.019005\n",
       "27     ACCB1QQZ  0.011843\n",
       "28     BFAD0MLP  0.007977\n",
       "29     BECB0MWX  0.006266\n",
       "...         ...       ...\n",
       "24975  AFEC2MXZ  0.008138\n",
       "24976  EFCC1MMO  0.004535\n",
       "24977  DABC2ZWP  0.009698\n",
       "24978  EDBF1XQQ  0.006995\n",
       "24979  DCBE1XOW  0.012406\n",
       "24980  BBDF0POO  0.002328\n",
       "24981  EECB1WOO  0.003477\n",
       "24982  BDFF1MXO  0.011806\n",
       "24983  FECF2LWZ  0.008299\n",
       "24984  BCFC2LPW  0.007934\n",
       "24985  EDEA1XMM  0.007402\n",
       "24986  CFEF2OPX  0.008280\n",
       "24987  EFFF2PLQ  0.003507\n",
       "24988  CFDC2WZO  0.014138\n",
       "24989  EDAD2MPM  0.008202\n",
       "24990  DDEC1LXW  0.003839\n",
       "24991  CCDC1XLM  0.004291\n",
       "24992  FBCE2ZOO  0.010450\n",
       "24993  CABF1ZMZ  0.029583\n",
       "24994  ADBB0ZLL  0.005168\n",
       "24995  DABF1OLZ  0.023305\n",
       "24996  DBEC0LPL  0.007211\n",
       "24997  BDED0MQW  0.005564\n",
       "24998  FFEB2MZX  0.007956\n",
       "24999  DFDB0WQW  0.008972\n",
       "25000  XYDC2DCA  0.224346\n",
       "25001  TXSX1ABC  0.594367\n",
       "25002  RNIU4XRE  0.191234\n",
       "25003  AABDXUEI  0.010537\n",
       "25004  SDRAC5RF  0.189892\n",
       "\n",
       "[25005 rows x 2 columns]"
      ]
     },
     "metadata": {},
     "output_type": "display_data"
    }
   ],
   "source": [
    "display(seqs_ds)"
   ]
  },
  {
   "cell_type": "code",
   "execution_count": 23,
   "metadata": {},
   "outputs": [
    {
     "name": "stdout",
     "output_type": "stream",
     "text": [
      "MSE 0.9999 threshhold:0.19056261588654894\n"
     ]
    }
   ],
   "source": [
    "mse_threshold = np.quantile(seqs_ds['MSE'], 0.9999)\n",
    "print(f'MSE 0.9999 threshhold:{mse_threshold}')"
   ]
  },
  {
   "cell_type": "code",
   "execution_count": 24,
   "metadata": {},
   "outputs": [],
   "source": [
    "seqs_ds['MSE_Outlier'] = 0\n",
    "seqs_ds.loc[seqs_ds['MSE'] > mse_threshold, 'MSE_Outlier'] = 1"
   ]
  },
  {
   "cell_type": "code",
   "execution_count": 25,
   "metadata": {},
   "outputs": [
    {
     "name": "stdout",
     "output_type": "stream",
     "text": [
      "Num of MSE outlier:3\n"
     ]
    },
    {
     "data": {
      "text/html": [
       "<div>\n",
       "<style scoped>\n",
       "    .dataframe tbody tr th:only-of-type {\n",
       "        vertical-align: middle;\n",
       "    }\n",
       "\n",
       "    .dataframe tbody tr th {\n",
       "        vertical-align: top;\n",
       "    }\n",
       "\n",
       "    .dataframe thead th {\n",
       "        text-align: right;\n",
       "    }\n",
       "</style>\n",
       "<table border=\"1\" class=\"dataframe\">\n",
       "  <thead>\n",
       "    <tr style=\"text-align: right;\">\n",
       "      <th></th>\n",
       "      <th>0</th>\n",
       "      <th>MSE</th>\n",
       "      <th>MSE_Outlier</th>\n",
       "    </tr>\n",
       "  </thead>\n",
       "  <tbody>\n",
       "    <tr>\n",
       "      <th>25000</th>\n",
       "      <td>XYDC2DCA</td>\n",
       "      <td>0.224346</td>\n",
       "      <td>1</td>\n",
       "    </tr>\n",
       "    <tr>\n",
       "      <th>25001</th>\n",
       "      <td>TXSX1ABC</td>\n",
       "      <td>0.594367</td>\n",
       "      <td>1</td>\n",
       "    </tr>\n",
       "    <tr>\n",
       "      <th>25002</th>\n",
       "      <td>RNIU4XRE</td>\n",
       "      <td>0.191234</td>\n",
       "      <td>1</td>\n",
       "    </tr>\n",
       "    <tr>\n",
       "      <th>25003</th>\n",
       "      <td>AABDXUEI</td>\n",
       "      <td>0.010537</td>\n",
       "      <td>0</td>\n",
       "    </tr>\n",
       "    <tr>\n",
       "      <th>25004</th>\n",
       "      <td>SDRAC5RF</td>\n",
       "      <td>0.189892</td>\n",
       "      <td>0</td>\n",
       "    </tr>\n",
       "  </tbody>\n",
       "</table>\n",
       "</div>"
      ],
      "text/plain": [
       "              0       MSE  MSE_Outlier\n",
       "25000  XYDC2DCA  0.224346            1\n",
       "25001  TXSX1ABC  0.594367            1\n",
       "25002  RNIU4XRE  0.191234            1\n",
       "25003  AABDXUEI  0.010537            0\n",
       "25004  SDRAC5RF  0.189892            0"
      ]
     },
     "execution_count": 25,
     "metadata": {},
     "output_type": "execute_result"
    }
   ],
   "source": [
    "print(f\"Num of MSE outlier:{seqs_ds['MSE_Outlier'].sum()}\")\n",
    "\n",
    "seqs_ds.iloc[25000:]"
   ]
  },
  {
   "cell_type": "code",
   "execution_count": null,
   "metadata": {},
   "outputs": [],
   "source": []
  }
 ],
 "metadata": {
  "kernelspec": {
   "display_name": "Python 3",
   "language": "python",
   "name": "python3"
  },
  "language_info": {
   "codemirror_mode": {
    "name": "ipython",
    "version": 3
   },
   "file_extension": ".py",
   "mimetype": "text/x-python",
   "name": "python",
   "nbconvert_exporter": "python",
   "pygments_lexer": "ipython3",
   "version": "3.6.9"
  },
  "toc": {
   "base_numbering": 1,
   "nav_menu": {},
   "number_sections": true,
   "sideBar": true,
   "skip_h1_title": false,
   "title_cell": "Table of Contents",
   "title_sidebar": "Contents",
   "toc_cell": false,
   "toc_position": {},
   "toc_section_display": true,
   "toc_window_display": false
  },
  "varInspector": {
   "cols": {
    "lenName": 16,
    "lenType": 16,
    "lenVar": 40
   },
   "kernels_config": {
    "python": {
     "delete_cmd_postfix": "",
     "delete_cmd_prefix": "del ",
     "library": "var_list.py",
     "varRefreshCmd": "print(var_dic_list())"
    },
    "r": {
     "delete_cmd_postfix": ") ",
     "delete_cmd_prefix": "rm(",
     "library": "var_list.r",
     "varRefreshCmd": "cat(var_dic_list()) "
    }
   },
   "types_to_exclude": [
    "module",
    "function",
    "builtin_function_or_method",
    "instance",
    "_Feature"
   ],
   "window_display": false
  }
 },
 "nbformat": 4,
 "nbformat_minor": 2
}
