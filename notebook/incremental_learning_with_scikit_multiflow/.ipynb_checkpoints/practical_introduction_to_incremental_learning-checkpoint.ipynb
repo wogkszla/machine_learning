{
 "cells": [
  {
   "cell_type": "markdown",
   "metadata": {},
   "source": [
    "# Introduction\n",
    "Data is all around us. Whether it's profile pictures, tweets, sensor applications, credit card transactions, emails, or news feeds, data is here…and it's being generated at incredibly fast speeds. With these seemingly infinite streams of data, __one of the key challenges is to create lightweight models that are always ready to predict and adaptive to changes in the data distribution.__ The limitations of traditional machine learning methods in this setting has led to the development of online learning (also called incremental learning) methods."
   ]
  },
  {
   "cell_type": "markdown",
   "metadata": {},
   "source": [
    "# What is Incremental Learning?\n",
    ">__At every iteration, the model predicts a class label, reveals the true label, and is then updated__\n",
    "\n",
    "Incremental learning refers to __a family of scalable algorithms that learn to sequentially update models from infinite data streams. Whereas in “traditional” machine learning, we’re given a complete dataset consisting of (input, output) pairs,__ in incremental learning, we don’t have all of the data available when creating the model. Instead, the data points arrive one at a time and we have to build a “living” model, one that learns and adapts as the data comes. \n",
    "\n",
    "__An incremental model has the following characteristics:__\n",
    "\n",
    "- It can predict at any time\n",
    "- It can adapt to concept drift — i.e. changes in the data distribution.\n",
    "- It is able to process an infinite data stream with finite resources (time and memory). This means that __it cannot store all of the training data as in typical machine learning approaches.__"
   ]
  },
  {
   "cell_type": "markdown",
   "metadata": {},
   "source": [
    "# Implementation\n",
    "\n",
    "## Working with Data-Streams in Python\n",
    "\n",
    "let’s work out a simple example in Scikit-Multiflow, a free Python framework for data-stream learning."
   ]
  },
  {
   "cell_type": "code",
   "execution_count": 2,
   "metadata": {},
   "outputs": [
    {
     "name": "stdout",
     "output_type": "stream",
     "text": [
      "Collecting scikit-multiflow\n",
      "\u001b[?25l  Downloading https://files.pythonhosted.org/packages/d0/d0/d73be8c424e116862f26cf4e0f99c41e4f0982519aa7bb923c715f05c166/scikit_multiflow-0.4.1-cp36-cp36m-manylinux1_x86_64.whl (16.3MB)\n",
      "\u001b[K     |████████████████████████████████| 16.3MB 10.3MB/s eta 0:00:01\n",
      "\u001b[?25hRequirement already satisfied, skipping upgrade: numpy>=1.11.0 in /home/labs/anaconda3/envs/deploy/lib/python3.6/site-packages (from scikit-multiflow) (1.17.0)\n",
      "Requirement already satisfied, skipping upgrade: scikit-learn>=0.20 in /home/labs/anaconda3/envs/deploy/lib/python3.6/site-packages (from scikit-multiflow) (0.21.2)\n",
      "Requirement already satisfied, skipping upgrade: sortedcontainers>=1.5.7 in /home/labs/anaconda3/envs/deploy/lib/python3.6/site-packages (from scikit-multiflow) (2.1.0)\n",
      "Requirement already satisfied, skipping upgrade: matplotlib>=2.0.0 in /home/labs/anaconda3/envs/deploy/lib/python3.6/site-packages (from scikit-multiflow) (3.1.1)\n",
      "Requirement already satisfied, skipping upgrade: scipy>=1.0.0 in /home/labs/anaconda3/envs/deploy/lib/python3.6/site-packages (from scikit-multiflow) (1.4.1)\n",
      "Requirement already satisfied, skipping upgrade: pandas>=0.21.0 in /home/labs/anaconda3/envs/deploy/lib/python3.6/site-packages (from scikit-multiflow) (0.24.2)\n",
      "Requirement already satisfied, skipping upgrade: joblib>=0.11 in /home/labs/anaconda3/envs/deploy/lib/python3.6/site-packages (from scikit-learn>=0.20->scikit-multiflow) (0.13.2)\n",
      "Requirement already satisfied, skipping upgrade: cycler>=0.10 in /home/labs/anaconda3/envs/deploy/lib/python3.6/site-packages (from matplotlib>=2.0.0->scikit-multiflow) (0.10.0)\n",
      "Requirement already satisfied, skipping upgrade: kiwisolver>=1.0.1 in /home/labs/anaconda3/envs/deploy/lib/python3.6/site-packages (from matplotlib>=2.0.0->scikit-multiflow) (1.1.0)\n",
      "Requirement already satisfied, skipping upgrade: python-dateutil>=2.1 in /home/labs/anaconda3/envs/deploy/lib/python3.6/site-packages (from matplotlib>=2.0.0->scikit-multiflow) (2.8.0)\n",
      "Requirement already satisfied, skipping upgrade: pyparsing!=2.0.4,!=2.1.2,!=2.1.6,>=2.0.1 in /home/labs/anaconda3/envs/deploy/lib/python3.6/site-packages (from matplotlib>=2.0.0->scikit-multiflow) (2.4.2)\n",
      "Requirement already satisfied, skipping upgrade: pytz>=2011k in /home/labs/anaconda3/envs/deploy/lib/python3.6/site-packages (from pandas>=0.21.0->scikit-multiflow) (2019.2)\n",
      "Requirement already satisfied, skipping upgrade: six in /home/labs/anaconda3/envs/deploy/lib/python3.6/site-packages (from cycler>=0.10->matplotlib>=2.0.0->scikit-multiflow) (1.12.0)\n",
      "Requirement already satisfied, skipping upgrade: setuptools in /home/labs/anaconda3/envs/deploy/lib/python3.6/site-packages (from kiwisolver>=1.0.1->matplotlib>=2.0.0->scikit-multiflow) (41.0.1)\n",
      "Installing collected packages: scikit-multiflow\n",
      "Successfully installed scikit-multiflow-0.4.1\n",
      "\u001b[33mWARNING: You are using pip version 19.2.2, however version 19.3.1 is available.\n",
      "You should consider upgrading via the 'pip install --upgrade pip' command.\u001b[0m\n"
     ]
    }
   ],
   "source": [
    "!pip install -U scikit-multiflow"
   ]
  },
  {
   "cell_type": "code",
   "execution_count": 4,
   "metadata": {},
   "outputs": [],
   "source": [
    "from skmultiflow.data import SEAGenerator"
   ]
  },
  {
   "cell_type": "markdown",
   "metadata": {},
   "source": [
    "The first thing we need to do is initialize it as follows:"
   ]
  },
  {
   "cell_type": "code",
   "execution_count": 5,
   "metadata": {},
   "outputs": [],
   "source": [
    "# create a stream\n",
    "stream = SEAGenerator()\n",
    "# prepare the stream for use\n",
    "stream.prepare_for_use()"
   ]
  },
  {
   "cell_type": "code",
   "execution_count": 6,
   "metadata": {},
   "outputs": [],
   "source": [
    "# to obtain a data sample\n",
    "X,Y = stream.next_sample()"
   ]
  },
  {
   "cell_type": "code",
   "execution_count": 10,
   "metadata": {},
   "outputs": [
    {
     "data": {
      "text/plain": [
       "(array([[7.75565987, 4.7269019 , 1.90378618]]), array([1]))"
      ]
     },
     "execution_count": 10,
     "metadata": {},
     "output_type": "execute_result"
    }
   ],
   "source": [
    "X, Y"
   ]
  },
  {
   "cell_type": "markdown",
   "metadata": {},
   "source": [
    "where X , the input, is a 3 dimensional np.array and Y, the output, is a 1 dimensional np.array."
   ]
  },
  {
   "cell_type": "code",
   "execution_count": 9,
   "metadata": {},
   "outputs": [
    {
     "data": {
      "text/plain": [
       "((1, 3), (1,))"
      ]
     },
     "execution_count": 9,
     "metadata": {},
     "output_type": "execute_result"
    }
   ],
   "source": [
    "X.shape, Y.shape"
   ]
  },
  {
   "cell_type": "markdown",
   "metadata": {},
   "source": [
    "## Online Classifier\n",
    "\n",
    ">__Hoeffding Trees__\n",
    "\n",
    "Hoeffding trees³ are built using the Very Fast Decision Tree Learner (VFDT) \n",
    "- an anytime system that builds decision trees using constant memory and constant time per example. \n",
    "- it makes use of a well known statistical result, the Hoeffding bound, in order to guarantee that its output is asymptotically identical to that of a traditional learner."
   ]
  },
  {
   "cell_type": "code",
   "execution_count": 11,
   "metadata": {},
   "outputs": [],
   "source": [
    "from skmultiflow.trees import HoeffdingTree\n",
    "tree = HoeffdingTree()"
   ]
  },
  {
   "cell_type": "code",
   "execution_count": 25,
   "metadata": {},
   "outputs": [],
   "source": [
    "nb_iters = 1000\n",
    "\n",
    "correctness_dist = []\n",
    "\n",
    "for i in range(nb_iters):\n",
    "    # get the next sample\n",
    "    X, Y = stream.next_sample()\n",
    "    # predict Y using the tree     \n",
    "    prediction = tree.predict(X)\n",
    "    \n",
    "    # check the prediction\n",
    "    if Y == prediction:\n",
    "        correctness_dist.append(1)\n",
    "    else:\n",
    "        correctness_dist.append(0)   \n",
    "\n",
    "    # update the tree\n",
    "    tree.partial_fit(X, Y)"
   ]
  },
  {
   "cell_type": "markdown",
   "metadata": {},
   "source": [
    "## Evaluation\n",
    "\n",
    "Using “correctness_dist”, an array of ones and zeros depending on whether the learner accurately classified the incoming sample, we can plot the accuracy over time."
   ]
  },
  {
   "cell_type": "code",
   "execution_count": 19,
   "metadata": {},
   "outputs": [
    {
     "data": {
      "text/plain": [
       "[<matplotlib.lines.Line2D at 0x7f7b4e886470>]"
      ]
     },
     "execution_count": 19,
     "metadata": {},
     "output_type": "execute_result"
    },
    {
     "data": {
      "image/png": "[encoded data removed]",
      "text/plain": [
       "<Figure size 432x288 with 1 Axes>"
      ]
     },
     "metadata": {
      "needs_background": "light"
     },
     "output_type": "display_data"
    }
   ],
   "source": [
    "import matplotlib.pyplot as plt\n",
    "time = [i for i in range(1, nb_iters)]\n",
    "accuracy = [sum(correctness_dist[:i])/len(correctness_dist[:i]) for i in range(1, nb_iters)]\n",
    "\n",
    "plt.plot(time, accuracy)"
   ]
  },
  {
   "cell_type": "markdown",
   "metadata": {},
   "source": [
    "## Alternative Evaluation with Scikit-Multiflow\n",
    "In scikit-multiflow, there is a __built-in way to do the exact same thing with less code.__ What we can do is import the EvaluatePrequential class:"
   ]
  },
  {
   "cell_type": "code",
   "execution_count": 21,
   "metadata": {},
   "outputs": [],
   "source": [
    "from skmultiflow.evaluation import EvaluatePrequential"
   ]
  },
  {
   "cell_type": "code",
   "execution_count": 26,
   "metadata": {},
   "outputs": [
    {
     "name": "stdout",
     "output_type": "stream",
     "text": [
      "Prequential Evaluation\n",
      "Evaluating 1 target(s).\n",
      "Pre-training on 200 sample(s).\n",
      "Evaluating...\n",
      "\r",
      " ####---------------- [20%] [0.01s]"
     ]
    },
    {
     "data": {
      "image/png": "[encoded data removed]",
      "text/plain": [
       "<Figure size 648x360 with 2 Axes>"
      ]
     },
     "metadata": {
      "needs_background": "light"
     },
     "output_type": "display_data"
    },
    {
     "name": "stdout",
     "output_type": "stream",
     "text": [
      " #################### [100%] [0.40s]\n",
      "Processed samples: 1000\n",
      "Mean performance:\n",
      "M0 - Accuracy     : 0.9812\n",
      "M0 - Kappa        : 0.9561\n"
     ]
    },
    {
     "data": {
      "text/plain": [
       "[HoeffdingTree(binary_split=False, grace_period=200, leaf_prediction='nba',\n",
       "               max_byte_size=33554432, memory_estimate_period=1000000,\n",
       "               nb_threshold=0, no_preprune=False, nominal_attributes=None,\n",
       "               remove_poor_atts=False, split_confidence=1e-07,\n",
       "               split_criterion='info_gain', stop_mem_management=False,\n",
       "               tie_threshold=0.05)]"
      ]
     },
     "execution_count": 26,
     "metadata": {},
     "output_type": "execute_result"
    }
   ],
   "source": [
    "evaluator=EvaluatePrequential(show_plot=True,max_samples=nb_iters)\n",
    "evaluator.evaluate(stream=stream, model=tree)"
   ]
  }
 ],
 "metadata": {
  "kernelspec": {
   "display_name": "Python 3",
   "language": "python",
   "name": "python3"
  },
  "language_info": {
   "codemirror_mode": {
    "name": "ipython",
    "version": 3
   },
   "file_extension": ".py",
   "mimetype": "text/x-python",
   "name": "python",
   "nbconvert_exporter": "python",
   "pygments_lexer": "ipython3",
   "version": "3.6.9"
  },
  "toc": {
   "base_numbering": 1,
   "nav_menu": {},
   "number_sections": true,
   "sideBar": true,
   "skip_h1_title": false,
   "title_cell": "Table of Contents",
   "title_sidebar": "Contents",
   "toc_cell": false,
   "toc_position": {},
   "toc_section_display": true,
   "toc_window_display": false
  },
  "varInspector": {
   "cols": {
    "lenName": 16,
    "lenType": 16,
    "lenVar": 40
   },
   "kernels_config": {
    "python": {
     "delete_cmd_postfix": "",
     "delete_cmd_prefix": "del ",
     "library": "var_list.py",
     "varRefreshCmd": "print(var_dic_list())"
    },
    "r": {
     "delete_cmd_postfix": ") ",
     "delete_cmd_prefix": "rm(",
     "library": "var_list.r",
     "varRefreshCmd": "cat(var_dic_list()) "
    }
   },
   "types_to_exclude": [
    "module",
    "function",
    "builtin_function_or_method",
    "instance",
    "_Feature"
   ],
   "window_display": false
  }
 },
 "nbformat": 4,
 "nbformat_minor": 2
}
