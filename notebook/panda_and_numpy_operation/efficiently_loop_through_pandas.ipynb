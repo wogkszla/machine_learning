{
 "cells": [
  {
   "cell_type": "markdown",
   "metadata": {},
   "source": [
    "# Looping Through Pandas\n",
    "\n",
    "- for loop with .iloc\n",
    "- iterrows\n",
    "- itertuple\n",
    "- apply\n",
    "- python zip\n",
    "- pandas vectorization\n",
    "- numpy vectorization"
   ]
  },
  {
   "cell_type": "markdown",
   "metadata": {},
   "source": [
    "# Experiment results with %timeit"
   ]
  },
  {
   "cell_type": "code",
   "execution_count": 1,
   "metadata": {},
   "outputs": [],
   "source": [
    "import timeit\n",
    "import pandas as pd\n",
    "import numpy as np\n",
    "\n",
    "df = pd.DataFrame(np.random.randint(0, 10, size=(100000, 4)), columns=list('ABCD'))"
   ]
  },
  {
   "cell_type": "code",
   "execution_count": 3,
   "metadata": {
    "scrolled": true
   },
   "outputs": [
    {
     "data": {
      "text/html": [
       "<div>\n",
       "<style scoped>\n",
       "    .dataframe tbody tr th:only-of-type {\n",
       "        vertical-align: middle;\n",
       "    }\n",
       "\n",
       "    .dataframe tbody tr th {\n",
       "        vertical-align: top;\n",
       "    }\n",
       "\n",
       "    .dataframe thead th {\n",
       "        text-align: right;\n",
       "    }\n",
       "</style>\n",
       "<table border=\"1\" class=\"dataframe\">\n",
       "  <thead>\n",
       "    <tr style=\"text-align: right;\">\n",
       "      <th></th>\n",
       "      <th>A</th>\n",
       "      <th>B</th>\n",
       "      <th>C</th>\n",
       "      <th>D</th>\n",
       "    </tr>\n",
       "  </thead>\n",
       "  <tbody>\n",
       "    <tr>\n",
       "      <th>49533</th>\n",
       "      <td>6</td>\n",
       "      <td>9</td>\n",
       "      <td>5</td>\n",
       "      <td>9</td>\n",
       "    </tr>\n",
       "  </tbody>\n",
       "</table>\n",
       "</div>"
      ],
      "text/plain": [
       "       A  B  C  D\n",
       "49533  6  9  5  9"
      ]
     },
     "execution_count": 3,
     "metadata": {},
     "output_type": "execute_result"
    }
   ],
   "source": [
    "df.sample(1)"
   ]
  },
  {
   "cell_type": "markdown",
   "metadata": {},
   "source": [
    "## Standard python for loop with iloc\n",
    "__A very basic way__ to achieve what we want to do is to use a standard for loop, and retrieve value using DataFrame's iloc method"
   ]
  },
  {
   "cell_type": "code",
   "execution_count": 4,
   "metadata": {},
   "outputs": [],
   "source": [
    "def loop_with_for(df):\n",
    "    temp = 0\n",
    "    \n",
    "    for index in range(len(df)):\n",
    "        temp += df['A'].iloc[index] + df['B'].iloc[index]\n",
    "        \n",
    "    return temp"
   ]
  },
  {
   "cell_type": "code",
   "execution_count": 5,
   "metadata": {},
   "outputs": [
    {
     "name": "stdout",
     "output_type": "stream",
     "text": [
      "1.55 s ± 49.5 ms per loop (mean ± std. dev. of 7 runs, 1 loop each)\n"
     ]
    }
   ],
   "source": [
    "%timeit loop_with_for(df)"
   ]
  },
  {
   "cell_type": "code",
   "execution_count": 6,
   "metadata": {},
   "outputs": [
    {
     "name": "stdout",
     "output_type": "stream",
     "text": [
      " "
     ]
    }
   ],
   "source": [
    "%prun -l 4 loop_with_for(df)"
   ]
  },
  {
   "cell_type": "markdown",
   "metadata": {},
   "source": [
    "10200009 function calls (10200008 primitive calls) in 3.128 seconds\n",
    "\n",
    "Ordered by: internal time\n",
    "List reduced from 38 to 4 due to restriction <4>\n",
    "\n",
    "ncalls  tottime  percall  cumtime  percall filename:lineno(function)\\\n",
    "1600000    0.319    0.000    0.870    0.000 {built-in method builtins.isinstance}\\\n",
    "200000    0.276    0.000    0.494    0.000 frame.py:2893(__getitem__)\\\n",
    "200000    0.248    0.000    2.296    0.000 indexing.py:2205(_getitem_axis)\\\n",
    "400000    0.223    0.000    0.371    0.000 abc.py:180(__instancecheck__)\\\n",
    "\n",
    "__most of the time is spent on accessing values of each cell of the DataFrame, and checking data type with python’s isinstance function.__"
   ]
  },
  {
   "cell_type": "markdown",
   "metadata": {},
   "source": [
    "## Using pandas iterrows function\n",
    "__The pandas iterrows function returns a pandas Series for each row,__ with the down side of not preserving dtypes across rows."
   ]
  },
  {
   "cell_type": "code",
   "execution_count": 7,
   "metadata": {},
   "outputs": [],
   "source": [
    "def loop_with_iterrows(df):\n",
    "    temp = 0\n",
    "    \n",
    "    for _, row in df.iterrows():\n",
    "         temp += row.A + row.B\n",
    "            \n",
    "    return temp"
   ]
  },
  {
   "cell_type": "code",
   "execution_count": 8,
   "metadata": {},
   "outputs": [
    {
     "name": "stdout",
     "output_type": "stream",
     "text": [
      "6.06 s ± 15.1 ms per loop (mean ± std. dev. of 7 runs, 1 loop each)\n"
     ]
    }
   ],
   "source": [
    "%timeit loop_with_iterrows(df)"
   ]
  },
  {
   "cell_type": "code",
   "execution_count": 9,
   "metadata": {},
   "outputs": [
    {
     "name": "stdout",
     "output_type": "stream",
     "text": [
      " "
     ]
    }
   ],
   "source": [
    "%prun -l 4 loop_with_iterrows(df)"
   ]
  },
  {
   "cell_type": "markdown",
   "metadata": {},
   "source": [
    "31400097 function calls (30900093 primitive calls) in 11.669 seconds\n",
    "\n",
    "Ordered by: internal time\n",
    "List reduced from 108 to 4 due to restriction <4>\n",
    "\n",
    "ncalls  tottime  percall  cumtime  percall filename:lineno(function)\\\n",
    "4900013    1.095    0.000    2.495    0.000 {built-in method builtins.isinstance}\\\n",
    "4600006    1.009    0.000    1.218    0.000 {built-in method builtins.getattr}\\\n",
    "3000004    0.550    0.000    1.244    0.000 generic.py:7(_check)\\\n",
    "100000    0.413    0.000    8.078    0.000 series.py:152(__init__)\\\n",
    "\n",
    "__the iterrows approach is almost 5 times slow than using standard for loop! The reason, suggested by the above log, is that iterrows spends a lot of time creating pandas Series object, which is known to incur a fair amount of overhead. And yet, the Series it created does not preserve dtypes across rows.__"
   ]
  },
  {
   "cell_type": "markdown",
   "metadata": {},
   "source": [
    "## Using pandas itertuples function\n",
    "\n",
    "The pandas itertuples function is similar to iterrows, except it returns a namedtuple for each row, and preserves dtypes across rows."
   ]
  },
  {
   "cell_type": "code",
   "execution_count": 10,
   "metadata": {},
   "outputs": [],
   "source": [
    "def loop_with_itertuples(df):\n",
    "    temp = 0\n",
    "    \n",
    "    for row_tuple in df.itertuples():\n",
    "        temp += row_tuple.A + row_tuple.B\n",
    "        \n",
    "    return temp"
   ]
  },
  {
   "cell_type": "code",
   "execution_count": 11,
   "metadata": {},
   "outputs": [
    {
     "name": "stdout",
     "output_type": "stream",
     "text": [
      "61.2 ms ± 475 µs per loop (mean ± std. dev. of 7 runs, 10 loops each)\n"
     ]
    }
   ],
   "source": [
    "%timeit loop_with_itertuples(df)"
   ]
  },
  {
   "cell_type": "code",
   "execution_count": 12,
   "metadata": {},
   "outputs": [
    {
     "name": "stdout",
     "output_type": "stream",
     "text": [
      " "
     ]
    }
   ],
   "source": [
    "%prun -l 4 loop_with_itertuples(df)"
   ]
  },
  {
   "cell_type": "markdown",
   "metadata": {},
   "source": [
    "301210 function calls (301195 primitive calls) in 0.107 seconds\n",
    "\n",
    "Ordered by: internal time\n",
    "List reduced from 113 to 4 due to restriction <4>\n",
    "\n",
    "ncalls  tottime  percall  cumtime  percall filename:lineno(function)\\\n",
    "1    0.066    0.066    0.107    0.107 <ipython-input-10-8da54a617580>:1(loop_with_itertuples)\\\n",
    "100000    0.020    0.000    0.038    0.000 <string>:16(_make)\\\n",
    "100000    0.013    0.000    0.013    0.000 {built-in method __new__ of type object at 0x55c6b9ab7e00}\\\n",
    "100082/100068    0.005    0.000    0.005    0.000 {built-in method builtins.len}\\\n",
    "    \n",
    "__itertuples saves the overhead of creating Series each row by creating namedtuple instead. This is efficient, yet we are still paying for overhead for creating namedtuple.__"
   ]
  },
  {
   "cell_type": "markdown",
   "metadata": {},
   "source": [
    "## Using python zip\n",
    "The way it works is it takes a number of iterables, and makes an iterator that aggragates elements from each of the iterables. Since a column of a Pandas DataFrame is an iterable, we can utilize zip to produce a tuple for each row just like itertuples, without all the pandas overhead!"
   ]
  },
  {
   "cell_type": "code",
   "execution_count": 14,
   "metadata": {},
   "outputs": [],
   "source": [
    "def loop_with_zip(df):\n",
    "    temp = 0\n",
    "    \n",
    "    for a, b in zip(df['A'], df['B']):\n",
    "        temp += a + b\n",
    "        \n",
    "    return temp"
   ]
  },
  {
   "cell_type": "code",
   "execution_count": 15,
   "metadata": {},
   "outputs": [
    {
     "name": "stdout",
     "output_type": "stream",
     "text": [
      "13.3 ms ± 297 µs per loop (mean ± std. dev. of 7 runs, 100 loops each)\n"
     ]
    }
   ],
   "source": [
    "%timeit loop_with_zip(df)"
   ]
  },
  {
   "cell_type": "code",
   "execution_count": 16,
   "metadata": {},
   "outputs": [
    {
     "name": "stdout",
     "output_type": "stream",
     "text": [
      " "
     ]
    }
   ],
   "source": [
    "%prun -l 4 loop_with_zip(df)"
   ]
  },
  {
   "cell_type": "markdown",
   "metadata": {},
   "source": [
    "140 function calls in 0.014 seconds\n",
    "\n",
    "Ordered by: internal time\n",
    "List reduced from 33 to 4 due to restriction <4>\n",
    "\n",
    "ncalls  tottime  percall  cumtime  percall filename:lineno(function)\\\n",
    "1    0.013    0.013    0.014    0.014 <ipython-input-14-23370a87224c>:1(loop_with_zip)\\\n",
    "1    0.000    0.000    0.014    0.014 {built-in method builtins.exec}\\\n",
    "2    0.000    0.000    0.000    0.000 frame.py:2893(__getitem__)\\\n",
    "2    0.000    0.000    0.000    0.000 base.py:1117(__iter__)\\\n",
    "    \n",
    "__The efficiency depends on the fact that we are not creating namedtuple for every row. zip simply returns an iterator of tuples.__"
   ]
  },
  {
   "cell_type": "markdown",
   "metadata": {},
   "source": [
    "## Using pandas apply function\n",
    "\n",
    "use the well-known pandas apply function, which is commonly used to do complex operations on DataFrame rows and columns."
   ]
  },
  {
   "cell_type": "code",
   "execution_count": 17,
   "metadata": {},
   "outputs": [],
   "source": [
    "def using_apply(df):\n",
    "    return df.apply(lambda x: x['A'] + x['B'], axis=1).sum()"
   ]
  },
  {
   "cell_type": "code",
   "execution_count": 18,
   "metadata": {},
   "outputs": [
    {
     "name": "stdout",
     "output_type": "stream",
     "text": [
      "1.2 s ± 3.81 ms per loop (mean ± std. dev. of 7 runs, 1 loop each)\n"
     ]
    }
   ],
   "source": [
    "%timeit using_apply(df)"
   ]
  },
  {
   "cell_type": "code",
   "execution_count": 19,
   "metadata": {},
   "outputs": [
    {
     "name": "stdout",
     "output_type": "stream",
     "text": [
      " "
     ]
    }
   ],
   "source": [
    "%prun -l 4 using_apply(df)"
   ]
  },
  {
   "cell_type": "markdown",
   "metadata": {},
   "source": [
    "8401971 function calls (8001949 primitive calls) in 2.585 seconds\n",
    "\n",
    "Ordered by: internal time\n",
    "List reduced from 218 to 4 due to restriction <4>\n",
    "\n",
    "ncalls  tottime  percall  cumtime  percall filename:lineno(function)\\\n",
    "200000    0.296    0.000    1.663    0.000 base.py:4342(get_value)\\\n",
    "    1    0.183    0.183    2.583    2.583 {pandas._libs.reduction.reduce}\\\n",
    "200000    0.166    0.000    1.896    0.000 series.py:865(__getitem__)\\\n",
    "600297    0.135    0.000    0.313    0.000 {built-in method builtins.getattr}\\\n",
    "\n",
    "We are seeing about the same performance as using standard loops. __apply is still doing row operations and creating Series, which explains why the function calls are mostly getting values from Series.__ This is surprising as I always thought apply is one of the more efficient functions if one needs to do row operations."
   ]
  },
  {
   "cell_type": "markdown",
   "metadata": {},
   "source": [
    "## Using pandas builtin add function\n",
    "using the pandas built-in add and sum function would have been the obvious way. __Unfortunately many computations we do does not have a simple built-in operation in Pandas. But this approach gives us a good indicator of how efficient these Pandas built-in functions are in practice.__"
   ]
  },
  {
   "cell_type": "code",
   "execution_count": 20,
   "metadata": {},
   "outputs": [],
   "source": [
    "def using_pandas_builtin(df):\n",
    "    return (df['A'] + df['B']).sum()"
   ]
  },
  {
   "cell_type": "code",
   "execution_count": 21,
   "metadata": {},
   "outputs": [
    {
     "name": "stdout",
     "output_type": "stream",
     "text": [
      "660 µs ± 825 ns per loop (mean ± std. dev. of 7 runs, 1000 loops each)\n"
     ]
    }
   ],
   "source": [
    "%timeit using_pandas_builtin(df)"
   ]
  },
  {
   "cell_type": "code",
   "execution_count": 22,
   "metadata": {},
   "outputs": [
    {
     "name": "stdout",
     "output_type": "stream",
     "text": [
      " "
     ]
    }
   ],
   "source": [
    "%prun -l 4 using_pandas_builtin(df)"
   ]
  },
  {
   "cell_type": "markdown",
   "metadata": {},
   "source": [
    "655 function calls in 0.001 seconds\n",
    "\n",
    "Ordered by: internal time\n",
    "List reduced from 145 to 4 due to restriction <4>\n",
    "\n",
    "ncalls  tottime  percall  cumtime  percall filename:lineno(function)\\\n",
    "3    0.000    0.000    0.000    0.000 {method 'reduce' of 'numpy.ufunc' objects}\\\n",
    "1    0.000    0.000    0.000    0.000 {built-in method _operator.add}\\\n",
    "1    0.000    0.000    0.000    0.000 {method 'copy' of 'numpy.ndarray' objects}\\\n",
    "1    0.000    0.000    0.000    0.000 missing.py:183(_isna_ndarraylike)\\\n",
    "\n",
    "Since pandas functions are highly optimized, it is expected to be very efficient. __This also shows that if your complex operation can be broken down to a series of pandas builtin functions, then it might make more sense to go that route than trying to jam all the operations__ in a lambda function then use apply."
   ]
  },
  {
   "cell_type": "markdown",
   "metadata": {},
   "source": [
    "## Using numpy builtin function\n",
    "if you are really looking for efficiency and speed, always go to numpy. Here we convert each column into a numpy array, and does all the heavy lifting utilizing numpy’s builtin functionalities."
   ]
  },
  {
   "cell_type": "code",
   "execution_count": 23,
   "metadata": {},
   "outputs": [],
   "source": [
    "def using_numpy_builtin(df):\n",
    "    return (df['A'].values + df['B'].values).sum()"
   ]
  },
  {
   "cell_type": "code",
   "execution_count": 24,
   "metadata": {},
   "outputs": [
    {
     "name": "stdout",
     "output_type": "stream",
     "text": [
      "281 µs ± 70.2 ns per loop (mean ± std. dev. of 7 runs, 1000 loops each)\n"
     ]
    }
   ],
   "source": [
    "%timeit using_numpy_builtin(df)"
   ]
  },
  {
   "cell_type": "code",
   "execution_count": 25,
   "metadata": {},
   "outputs": [
    {
     "name": "stdout",
     "output_type": "stream",
     "text": [
      " "
     ]
    }
   ],
   "source": [
    "%prun -l 4 using_numpy_builtin(df)"
   ]
  },
  {
   "cell_type": "markdown",
   "metadata": {},
   "source": [
    "31 function calls in 0.001 seconds\n",
    "\n",
    "Ordered by: internal time\n",
    "List reduced from 19 to 4 due to restriction <4>\n",
    "\n",
    "ncalls  tottime  percall  cumtime  percall filename:lineno(function)\\\n",
    "1    0.001    0.001    0.001    0.001 <ipython-input-23-0087d0c6165a>:1(using_numpy_builtin)\\\n",
    "1    0.000    0.000    0.000    0.000 {method 'reduce' of 'numpy.ufunc' objects}\\\n",
    "1    0.000    0.000    0.001    0.001 {built-in method builtins.exec}\\\n",
    "2    0.000    0.000    0.000    0.000 frame.py:2893(__getitem__)\\\n",
    "    \n",
    "__the clear winner of this contest is the approach using numpy.__"
   ]
  }
 ],
 "metadata": {
  "kernelspec": {
   "display_name": "Python 3",
   "language": "python",
   "name": "python3"
  },
  "language_info": {
   "codemirror_mode": {
    "name": "ipython",
    "version": 3
   },
   "file_extension": ".py",
   "mimetype": "text/x-python",
   "name": "python",
   "nbconvert_exporter": "python",
   "pygments_lexer": "ipython3",
   "version": "3.6.9"
  },
  "toc": {
   "base_numbering": 1,
   "nav_menu": {},
   "number_sections": true,
   "sideBar": true,
   "skip_h1_title": false,
   "title_cell": "Table of Contents",
   "title_sidebar": "Contents",
   "toc_cell": false,
   "toc_position": {},
   "toc_section_display": true,
   "toc_window_display": false
  },
  "varInspector": {
   "cols": {
    "lenName": 16,
    "lenType": 16,
    "lenVar": 40
   },
   "kernels_config": {
    "python": {
     "delete_cmd_postfix": "",
     "delete_cmd_prefix": "del ",
     "library": "var_list.py",
     "varRefreshCmd": "print(var_dic_list())"
    },
    "r": {
     "delete_cmd_postfix": ") ",
     "delete_cmd_prefix": "rm(",
     "library": "var_list.r",
     "varRefreshCmd": "cat(var_dic_list()) "
    }
   },
   "types_to_exclude": [
    "module",
    "function",
    "builtin_function_or_method",
    "instance",
    "_Feature"
   ],
   "window_display": false
  }
 },
 "nbformat": 4,
 "nbformat_minor": 2
}
